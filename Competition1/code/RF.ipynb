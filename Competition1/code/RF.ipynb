{
 "cells": [
  {
   "cell_type": "markdown",
   "metadata": {},
   "source": [
    "# Implémentation d'un classifieur Random Forest avec sklearn"
   ]
  },
  {
   "cell_type": "code",
   "execution_count": 1,
   "metadata": {},
   "outputs": [],
   "source": [
    "import numpy as np\n",
    "import pandas as pd\n",
    "import matplotlib.pyplot as plt\n",
    "from tqdm.autonotebook import tqdm\n",
    "import random\n",
    "data_load = False\n",
    "#Import Random Forest Model\n",
    "from sklearn.ensemble import RandomForestClassifier"
   ]
  },
  {
   "cell_type": "markdown",
   "metadata": {},
   "source": [
    "## Chargement des data"
   ]
  },
  {
   "cell_type": "code",
   "execution_count": 2,
   "metadata": {},
   "outputs": [
    {
     "data": {
      "image/png": "[encoded data removed]",
      "text/plain": [
       "<Figure size 432x288 with 1 Axes>"
      ]
     },
     "metadata": {
      "needs_background": "light"
     },
     "output_type": "display_data"
    }
   ],
   "source": [
    "if not data_load :\n",
    "    train_x = pd.read_csv('./classification-of-mnist-digits/train.csv')\n",
    "    train_y = pd.read_csv('./classification-of-mnist-digits/train_result.csv')\n",
    "    test_x = pd.read_csv('./classification-of-mnist-digits/test.csv')\n",
    "    data_load = True\n",
    "for i in train_x.index:\n",
    "    data = train_x.loc[i].values[:-1].reshape(28,56)\n",
    "    plt.title(f'Label is {train_y.loc[i].values[1]}')\n",
    "    plt.imshow(data)\n",
    "    plt.show()\n",
    "    break"
   ]
  },
  {
   "cell_type": "markdown",
   "metadata": {},
   "source": [
    "## Traitement des data"
   ]
  },
  {
   "cell_type": "code",
   "execution_count": 3,
   "metadata": {},
   "outputs": [],
   "source": [
    "# def one_hot(a, num_classes):\n",
    "#   return np.squeeze(np.eye(num_classes)[a.reshape(-1)])\n",
    "\n",
    "train_x = train_x.iloc[: , :-1].to_numpy()\n",
    "test_x = test_x.iloc[: , :-1].to_numpy()\n",
    "train_y = np.squeeze(train_y.iloc[:,1:].to_numpy())"
   ]
  },
  {
   "cell_type": "code",
   "execution_count": 4,
   "metadata": {},
   "outputs": [],
   "source": [
    "train_y = np.squeeze(train_y)"
   ]
  },
  {
   "cell_type": "markdown",
   "metadata": {},
   "source": [
    "## Construction du modèle, entraînement et prédiction du jeu de test"
   ]
  },
  {
   "cell_type": "code",
   "execution_count": 5,
   "metadata": {},
   "outputs": [],
   "source": [
    "#Create a RandomForest Classifier\n",
    "clf = RandomForestClassifier(n_estimators=100)\n",
    "\n",
    "#Train the model \n",
    "clf.fit(train_x,train_y)\n",
    "\n",
    "preds =clf.predict(test_x)"
   ]
  },
  {
   "cell_type": "markdown",
   "metadata": {},
   "source": [
    "## Chargement des résultats dans un csv conforme"
   ]
  },
  {
   "cell_type": "code",
   "execution_count": 6,
   "metadata": {},
   "outputs": [
    {
     "name": "stdout",
     "output_type": "stream",
     "text": [
      "      Index  Class\n",
      "0         0     14\n",
      "1         1      7\n",
      "2         2     10\n",
      "3         3      7\n",
      "4         4      5\n",
      "...     ...    ...\n",
      "9995   9995      9\n",
      "9996   9996     12\n",
      "9997   9997     10\n",
      "9998   9998      4\n",
      "9999   9999      6\n",
      "\n",
      "[10000 rows x 2 columns]\n"
     ]
    }
   ],
   "source": [
    "# creating a list of index names\n",
    "index_values = [i for i in range(0, 10000)]\n",
    "# creating a list of column names\n",
    "column_values = ['Index', 'Class']\n",
    "  \n",
    "# creating the dataframe\n",
    "df = pd.DataFrame(columns = column_values, index = index_values)\n",
    "df['Class']= preds\n",
    "df['Index']= index_values\n",
    "print(df)\n",
    "df.to_csv('./submission_RF.csv', index=False)"
   ]
  }
 ],
 "metadata": {
  "kernelspec": {
   "display_name": "Python 3.8.8 ('base')",
   "language": "python",
   "name": "python3"
  },
  "language_info": {
   "codemirror_mode": {
    "name": "ipython",
    "version": 3
   },
   "file_extension": ".py",
   "mimetype": "text/x-python",
   "name": "python",
   "nbconvert_exporter": "python",
   "pygments_lexer": "ipython3",
   "version": "3.8.8"
  },
  "orig_nbformat": 4,
  "vscode": {
   "interpreter": {
    "hash": "40d3a090f54c6569ab1632332b64b2c03c39dcf918b08424e98f38b5ae0af88f"
   }
  }
 },
 "nbformat": 4,
 "nbformat_minor": 2
}
