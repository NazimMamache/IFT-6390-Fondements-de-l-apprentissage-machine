{
 "cells": [
  {
   "cell_type": "markdown",
   "metadata": {},
   "source": [
    "# Implémentation d'un modèle CNN Keras "
   ]
  },
  {
   "cell_type": "code",
   "execution_count": 2,
   "metadata": {},
   "outputs": [],
   "source": [
    "import numpy as np\n",
    "import pandas as pd\n",
    "import matplotlib.pyplot as plt\n",
    "from tqdm.autonotebook import tqdm\n",
    "import random\n",
    "data_load = False\n",
    "from tensorflow import keras\n",
    "from tensorflow.keras import layers"
   ]
  },
  {
   "cell_type": "markdown",
   "metadata": {},
   "source": [
    "## Load data"
   ]
  },
  {
   "cell_type": "code",
   "execution_count": 3,
   "metadata": {},
   "outputs": [
    {
     "data": {
      "image/png": "[encoded data removed]",
      "text/plain": [
       "<Figure size 432x288 with 1 Axes>"
      ]
     },
     "metadata": {
      "needs_background": "light"
     },
     "output_type": "display_data"
    }
   ],
   "source": [
    "if not data_load :\n",
    "    train_x = pd.read_csv('./classification-of-mnist-digits/train.csv')\n",
    "    train_y = pd.read_csv('./classification-of-mnist-digits/train_result.csv')\n",
    "    test_x = pd.read_csv('./classification-of-mnist-digits/test.csv')\n",
    "    data_load = True\n",
    "for i in train_x.index:\n",
    "    data = train_x.loc[i].values[:-1].reshape(28,56)\n",
    "    plt.title(f'Label is {train_y.loc[i].values[1]}')\n",
    "    plt.imshow(data)\n",
    "    plt.show()\n",
    "    break"
   ]
  },
  {
   "cell_type": "markdown",
   "metadata": {},
   "source": [
    "## Traitement des data"
   ]
  },
  {
   "cell_type": "code",
   "execution_count": 4,
   "metadata": {},
   "outputs": [],
   "source": [
    "train_x = train_x.iloc[: , :-1].to_numpy()\n",
    "test_x = test_x.iloc[: , :-1].to_numpy()\n",
    "train_y = np.squeeze(train_y.iloc[:,1:].to_numpy())"
   ]
  },
  {
   "cell_type": "code",
   "execution_count": 5,
   "metadata": {},
   "outputs": [],
   "source": [
    "train_y = np.squeeze(train_y)"
   ]
  },
  {
   "cell_type": "code",
   "execution_count": 6,
   "metadata": {},
   "outputs": [
    {
     "name": "stdout",
     "output_type": "stream",
     "text": [
      "(50000, 1568) (50000,) (10000, 1568)\n"
     ]
    }
   ],
   "source": [
    "print(train_x.shape, train_y.shape, test_x.shape)"
   ]
  },
  {
   "cell_type": "code",
   "execution_count": 7,
   "metadata": {},
   "outputs": [],
   "source": [
    "train_x = np.expand_dims(train_x, -1)\n",
    "train_x = np.reshape(train_x, (50000, 56, 28, 1), order='C')\n",
    "test_x = np.expand_dims(test_x, -1)\n",
    "test_x = np.reshape(test_x, (10000, 56, 28, 1), order='C')"
   ]
  },
  {
   "cell_type": "code",
   "execution_count": 8,
   "metadata": {},
   "outputs": [],
   "source": [
    "def one_hot(a, num_classes):\n",
    "  return np.squeeze(np.eye(num_classes)[a.reshape(-1)])\n",
    "train_y = one_hot(train_y, 19)"
   ]
  },
  {
   "cell_type": "code",
   "execution_count": 9,
   "metadata": {},
   "outputs": [
    {
     "name": "stdout",
     "output_type": "stream",
     "text": [
      "(50000, 56, 28, 1) (50000, 19) (10000, 56, 28, 1)\n"
     ]
    }
   ],
   "source": [
    "print(train_x.shape, train_y.shape, test_x.shape)"
   ]
  },
  {
   "cell_type": "markdown",
   "metadata": {},
   "source": [
    "## Construction du modèle"
   ]
  },
  {
   "cell_type": "code",
   "execution_count": 26,
   "metadata": {},
   "outputs": [
    {
     "name": "stdout",
     "output_type": "stream",
     "text": [
      "Model: \"sequential_2\"\n",
      "_________________________________________________________________\n",
      " Layer (type)                Output Shape              Param #   \n",
      "=================================================================\n",
      " conv2d_4 (Conv2D)           (None, 54, 26, 32)        320       \n",
      "                                                                 \n",
      " max_pooling2d_4 (MaxPooling  (None, 27, 13, 32)       0         \n",
      " 2D)                                                             \n",
      "                                                                 \n",
      " conv2d_5 (Conv2D)           (None, 25, 11, 64)        18496     \n",
      "                                                                 \n",
      " max_pooling2d_5 (MaxPooling  (None, 12, 5, 64)        0         \n",
      " 2D)                                                             \n",
      "                                                                 \n",
      " flatten_2 (Flatten)         (None, 3840)              0         \n",
      "                                                                 \n",
      " dropout_2 (Dropout)         (None, 3840)              0         \n",
      "                                                                 \n",
      " dense_2 (Dense)             (None, 19)                72979     \n",
      "                                                                 \n",
      "=================================================================\n",
      "Total params: 91,795\n",
      "Trainable params: 91,795\n",
      "Non-trainable params: 0\n",
      "_________________________________________________________________\n"
     ]
    }
   ],
   "source": [
    "num_classes = 19\n",
    "input_shape = (56, 28, 1)\n",
    "\n",
    "model = keras.Sequential(\n",
    "    [\n",
    "        keras.Input(shape=input_shape),\n",
    "        layers.Conv2D(32, kernel_size=(3, 3), activation=\"relu\"),\n",
    "        layers.MaxPooling2D(pool_size=(2, 2)),\n",
    "        layers.Conv2D(64, kernel_size=(3, 3), activation=\"relu\"),\n",
    "        layers.MaxPooling2D(pool_size=(2, 2)),\n",
    "        layers.Flatten(),\n",
    "        layers.Dropout(0.5),\n",
    "        layers.Dense(num_classes, activation=\"softmax\"),\n",
    "    ]\n",
    ")\n",
    "\n",
    "model.summary()"
   ]
  },
  {
   "cell_type": "markdown",
   "metadata": {},
   "source": [
    "## Entraînement du modèle"
   ]
  },
  {
   "cell_type": "code",
   "execution_count": 27,
   "metadata": {},
   "outputs": [
    {
     "name": "stdout",
     "output_type": "stream",
     "text": [
      "Epoch 1/15\n",
      "313/313 [==============================] - 50s 153ms/step - loss: 2.0784 - accuracy: 0.3186 - val_loss: 1.5468 - val_accuracy: 0.4949\n",
      "Epoch 2/15\n",
      "313/313 [==============================] - 40s 128ms/step - loss: 1.4985 - accuracy: 0.5124 - val_loss: 1.2854 - val_accuracy: 0.5837\n",
      "Epoch 3/15\n",
      "313/313 [==============================] - 39s 124ms/step - loss: 1.2902 - accuracy: 0.5829 - val_loss: 1.1302 - val_accuracy: 0.6399\n",
      "Epoch 4/15\n",
      "313/313 [==============================] - 39s 123ms/step - loss: 1.1635 - accuracy: 0.6246 - val_loss: 1.0141 - val_accuracy: 0.6804\n",
      "Epoch 5/15\n",
      "313/313 [==============================] - 39s 125ms/step - loss: 1.0763 - accuracy: 0.6532 - val_loss: 0.9419 - val_accuracy: 0.7052\n",
      "Epoch 6/15\n",
      "313/313 [==============================] - 39s 125ms/step - loss: 1.0161 - accuracy: 0.6722 - val_loss: 0.8908 - val_accuracy: 0.7215\n",
      "Epoch 7/15\n",
      "313/313 [==============================] - 39s 125ms/step - loss: 0.9671 - accuracy: 0.6855 - val_loss: 0.8497 - val_accuracy: 0.7328\n",
      "Epoch 8/15\n",
      "313/313 [==============================] - 42s 135ms/step - loss: 0.9239 - accuracy: 0.6995 - val_loss: 0.8377 - val_accuracy: 0.7363\n",
      "Epoch 9/15\n",
      "313/313 [==============================] - 45s 144ms/step - loss: 0.8881 - accuracy: 0.7127 - val_loss: 0.8055 - val_accuracy: 0.7466\n",
      "Epoch 10/15\n",
      "313/313 [==============================] - 39s 125ms/step - loss: 0.8597 - accuracy: 0.7227 - val_loss: 0.7804 - val_accuracy: 0.7579\n",
      "Epoch 11/15\n",
      "313/313 [==============================] - 39s 123ms/step - loss: 0.8333 - accuracy: 0.7287 - val_loss: 0.7867 - val_accuracy: 0.7506\n",
      "Epoch 12/15\n",
      "313/313 [==============================] - 39s 125ms/step - loss: 0.8108 - accuracy: 0.7389 - val_loss: 0.7423 - val_accuracy: 0.7663\n",
      "Epoch 13/15\n",
      "313/313 [==============================] - 39s 125ms/step - loss: 0.7899 - accuracy: 0.7435 - val_loss: 0.7246 - val_accuracy: 0.7750\n",
      "Epoch 14/15\n",
      "313/313 [==============================] - 39s 125ms/step - loss: 0.7767 - accuracy: 0.7463 - val_loss: 0.7240 - val_accuracy: 0.7795\n",
      "Epoch 15/15\n",
      "313/313 [==============================] - 39s 125ms/step - loss: 0.7576 - accuracy: 0.7546 - val_loss: 0.7111 - val_accuracy: 0.7800\n"
     ]
    }
   ],
   "source": [
    "batch_size = 128\n",
    "epochs = 15\n",
    "\n",
    "model.compile(loss=\"categorical_crossentropy\", optimizer=\"adam\", metrics=[\"accuracy\"])\n",
    "\n",
    "history = model.fit(train_x, train_y, batch_size=batch_size, epochs=epochs, validation_split=0.2)"
   ]
  },
  {
   "cell_type": "markdown",
   "metadata": {},
   "source": [
    "## Courbes d'évolution de la loss et de l'accuracy"
   ]
  },
  {
   "cell_type": "code",
   "execution_count": 28,
   "metadata": {},
   "outputs": [
    {
     "data": {
      "image/png": "[encoded data removed]",
      "text/plain": [
       "<Figure size 432x288 with 1 Axes>"
      ]
     },
     "metadata": {
      "needs_background": "light"
     },
     "output_type": "display_data"
    }
   ],
   "source": [
    "plt.plot(history.history['accuracy'])\n",
    "plt.plot(history.history['val_accuracy'])\n",
    "plt.title('model accuracy')\n",
    "plt.ylabel('accuracy')\n",
    "plt.xlabel('epoch')\n",
    "plt.legend(['train', 'val'], loc='upper left')\n",
    "plt.show()"
   ]
  },
  {
   "cell_type": "code",
   "execution_count": 29,
   "metadata": {},
   "outputs": [
    {
     "data": {
      "image/png": "[encoded data removed]",
      "text/plain": [
       "<Figure size 432x288 with 1 Axes>"
      ]
     },
     "metadata": {
      "needs_background": "light"
     },
     "output_type": "display_data"
    }
   ],
   "source": [
    "plt.plot(history.history['loss'])\n",
    "plt.plot(history.history['val_loss'])\n",
    "plt.title('model loss')\n",
    "plt.ylabel('loss')\n",
    "plt.xlabel('epoch')\n",
    "plt.legend(['train', 'val'], loc='upper left')\n",
    "plt.show()"
   ]
  },
  {
   "cell_type": "markdown",
   "metadata": {},
   "source": [
    "## Prédiction du jeu de test"
   ]
  },
  {
   "cell_type": "code",
   "execution_count": 21,
   "metadata": {},
   "outputs": [
    {
     "name": "stdout",
     "output_type": "stream",
     "text": [
      "313/313 [==============================] - 7s 19ms/step\n",
      "[12  7 10 ... 10  4  6]\n"
     ]
    }
   ],
   "source": [
    "predict = model.predict(test_x)\n",
    "predict = np.argmax(predict, axis = 1)\n",
    "print(predict)"
   ]
  },
  {
   "cell_type": "markdown",
   "metadata": {},
   "source": [
    "## Chargement des résultats dans un csv conforme"
   ]
  },
  {
   "cell_type": "code",
   "execution_count": 17,
   "metadata": {},
   "outputs": [
    {
     "name": "stdout",
     "output_type": "stream",
     "text": [
      "      Index  Class\n",
      "0         0     14\n",
      "1         1      7\n",
      "2         2      8\n",
      "3         3      7\n",
      "4         4      5\n",
      "...     ...    ...\n",
      "9995   9995      9\n",
      "9996   9996     12\n",
      "9997   9997     10\n",
      "9998   9998      4\n",
      "9999   9999      6\n",
      "\n",
      "[10000 rows x 2 columns]\n"
     ]
    }
   ],
   "source": [
    "# creating a list of index names\n",
    "index_values = [i for i in range(0, 10000)]\n",
    "# creating a list of column names\n",
    "column_values = ['Index', 'Class']\n",
    "  \n",
    "# creating the dataframe\n",
    "df = pd.DataFrame(columns = column_values, index = index_values)\n",
    "df['Class']= predict\n",
    "df['Index']= index_values\n",
    "print(df)\n",
    "df.to_csv('./submission_Keras_Conv.csv', index=False)"
   ]
  },
  {
   "cell_type": "code",
   "execution_count": null,
   "metadata": {},
   "outputs": [],
   "source": []
  }
 ],
 "metadata": {
  "kernelspec": {
   "display_name": "Python 3.8.8 ('base')",
   "language": "python",
   "name": "python3"
  },
  "language_info": {
   "codemirror_mode": {
    "name": "ipython",
    "version": 3
   },
   "file_extension": ".py",
   "mimetype": "text/x-python",
   "name": "python",
   "nbconvert_exporter": "python",
   "pygments_lexer": "ipython3",
   "version": "3.8.8"
  },
  "orig_nbformat": 4,
  "vscode": {
   "interpreter": {
    "hash": "40d3a090f54c6569ab1632332b64b2c03c39dcf918b08424e98f38b5ae0af88f"
   }
  }
 },
 "nbformat": 4,
 "nbformat_minor": 2
}
