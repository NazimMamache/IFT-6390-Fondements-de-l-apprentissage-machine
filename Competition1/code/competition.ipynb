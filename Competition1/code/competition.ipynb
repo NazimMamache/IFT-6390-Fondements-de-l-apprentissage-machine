{
 "cells": [
  {
   "cell_type": "code",
   "execution_count": 1,
   "id": "212af115",
   "metadata": {},
   "outputs": [],
   "source": [
    "import numpy as np\n",
    "import pandas as pd\n",
    "import matplotlib.pyplot as plt\n",
    "from tqdm.autonotebook import tqdm\n",
    "import random\n",
    "data_load = False"
   ]
  },
  {
   "cell_type": "code",
   "execution_count": 2,
   "metadata": {},
   "outputs": [
    {
     "data": {
      "image/png": "[encoded data removed]",
      "text/plain": [
       "<Figure size 432x288 with 1 Axes>"
      ]
     },
     "metadata": {
      "needs_background": "light"
     },
     "output_type": "display_data"
    }
   ],
   "source": [
    "if not data_load :\n",
    "    train_x = pd.read_csv('./classification-of-mnist-digits/train.csv')\n",
    "    train_y = pd.read_csv('./classification-of-mnist-digits/train_result.csv')\n",
    "    test_x = pd.read_csv('./classification-of-mnist-digits/test.csv')\n",
    "    data_load = True\n",
    "for i in train_x.index:\n",
    "    data = train_x.loc[i].values[:-1].reshape(28,56)\n",
    "    plt.title(f'Label is {train_y.loc[i].values[1]}')\n",
    "    plt.imshow(data)\n",
    "    plt.show()\n",
    "    break"
   ]
  },
  {
   "cell_type": "code",
   "execution_count": 3,
   "id": "7688a6c3",
   "metadata": {},
   "outputs": [],
   "source": [
    "val_x = train_x[:10000]\n",
    "val_y = train_y[:10000]\n",
    "train_x = train_x[10000:]\n",
    "train_y = train_y[10000:]"
   ]
  },
  {
   "cell_type": "code",
   "execution_count": 4,
   "id": "10a85d1d",
   "metadata": {},
   "outputs": [],
   "source": [
    "train_x = train_x.iloc[: , :-1]\n",
    "val_x = val_x.iloc[: , :-1]\n",
    "test_x = test_x.iloc[: , :-1]"
   ]
  },
  {
   "cell_type": "code",
   "execution_count": 5,
   "id": "9b9b6951",
   "metadata": {},
   "outputs": [
    {
     "name": "stdout",
     "output_type": "stream",
     "text": [
      "(40000, 1568) (40000, 1) (10000, 1568) (10000, 1) (10000, 1568)\n"
     ]
    }
   ],
   "source": [
    "train_y = train_y.iloc[:,1:]\n",
    "val_y = val_y.iloc[:,1:]\n",
    "print(train_x.shape, train_y.shape, val_x.shape, val_y.shape, test_x.shape)"
   ]
  },
  {
   "cell_type": "code",
   "execution_count": 6,
   "id": "62f7c5b2",
   "metadata": {},
   "outputs": [],
   "source": [
    "train_x = train_x.to_numpy()\n",
    "val_x = val_x.to_numpy()\n",
    "test_x = test_x.to_numpy()\n",
    "train_y = train_y.to_numpy()\n",
    "val_y = val_y.to_numpy()"
   ]
  },
  {
   "cell_type": "code",
   "execution_count": 7,
   "id": "a7befa08",
   "metadata": {},
   "outputs": [],
   "source": [
    "def one_hot(a, num_classes):\n",
    "  return np.squeeze(np.eye(num_classes)[a.reshape(-1)])\n",
    "train_y = one_hot(train_y, 19)\n",
    "val_y = one_hot(val_y, 19)"
   ]
  },
  {
   "cell_type": "code",
   "execution_count": 8,
   "id": "5e8cbc79",
   "metadata": {},
   "outputs": [
    {
     "name": "stdout",
     "output_type": "stream",
     "text": [
      "(40000, 1568) (40000, 19) (10000, 1568) (10000, 19) (10000, 1568)\n"
     ]
    }
   ],
   "source": [
    "print(train_x.shape, train_y.shape, val_x.shape, val_y.shape, test_x.shape)"
   ]
  },
  {
   "cell_type": "code",
   "execution_count": 95,
   "id": "50a79667",
   "metadata": {},
   "outputs": [],
   "source": [
    "class NN(object):\n",
    "  \"\"\"\n",
    "    Implements an 1-NN.\n",
    "  \"\"\"\n",
    "\n",
    "  def __init__(self,\n",
    "               dims=(1568, 19),\n",
    "               epsilon=1e-6,            # Correction factor\n",
    "               lr=0.1,                 # Learning rate\n",
    "              ):\n",
    "    \"\"\"\n",
    "      Constructor of the NN class.\n",
    "\n",
    "      dims: list or tuple or np.array, default (784, 128, 64, 10)\n",
    "        Valeurs de h_0 (nombre de caractéristiques), h_1 (dim. cachée 1), h_2 (dim. cachée 2), h_3 (nombre de classes de sortie).\n",
    "      activation: string, default \"relu\"\n",
    "        La fonction d'activation.\n",
    "      epsilon: float or double, default 1e-6\n",
    "        Facteur de correction des probabilités.\n",
    "      lr: float or double, default 0.01\n",
    "        Taux d'apprentissage.\n",
    "      seed: int, default 0\n",
    "        Random seed.\n",
    "    \"\"\"\n",
    "    super(NN, self).__init__()\n",
    "\n",
    "    self.dims = dims\n",
    "    self.epsilon = epsilon\n",
    "    self.lr = lr\n",
    "\n",
    "  def initialize_weights(self):\n",
    "    \"\"\"\n",
    "      Résultats : Initialise les weights du MLP à partir de uniform(-1/sqrt(h_0), 1/sqrt(h_0)) et les biais à zéro.\n",
    "    \"\"\"\n",
    "\n",
    "    self.weights = {}\n",
    "    # self.weights is a dictionary with keys W1, b1, W2, b2, ..., Wm, Bm where m - 1 is the number of hidden layers\n",
    "    # The keys W1, W2, ..., Wm correspond to weights while b1, b2, ..., bm correspond to biases\n",
    "    self.weights[f\"W{1}\"] = np.random.normal(0,1, size = (self.dims[0], self.dims[1]))\n",
    "    self.weights[f\"b{1}\"] = np.random.normal(0,1, size = (1, self.dims[1]))\n",
    "\n",
    "  def softmax(self, x):\n",
    "    \"\"\"\n",
    "      x: np.array\n",
    "        Entrées pour calculer le softmax. x peut contenir un batch d'entrées !\n",
    "\n",
    "      Outputs: Implémente la fonction softmax, renvoie l'array contenant softmax(x).\n",
    "    \"\"\"\n",
    "    res = np.array([])\n",
    "    for i in range(x.shape[0]):\n",
    "      res = np.append(res, np.exp(x[i] - np.max(x[i]))/np.sum(np.exp(x[i] - np.max(x[i]))))\n",
    "    return res.reshape(x.shape)\n",
    "\n",
    "  def forward(self, x):\n",
    "    \"\"\"\n",
    "      x: np.array\n",
    "        Entrées du MLP. Notez que x peut contenir plusieurs exemples d'entrée.\n",
    "\n",
    "      Outputs: Implémente la passe forward, retourne le cache comme décrit ci-dessous.\n",
    "    \"\"\"\n",
    "    cache = {\"Z0\": x}\n",
    "    # le cache est un dictionnaire avec les clés Z0, A1, Z1, ..., Am, Zm où m - 1 est le nombre de couches cachées\n",
    "    # Z0 contient juste les entrées x du réseau\n",
    "    # Ai correspond à la préactivation de la couche i, Zi correspond à l'activation de la couche i\n",
    "    cache[f\"A{1}\"] = np.dot(cache[f\"Z{0}\"], self.weights[f\"W{1}\"]) + self.weights[f\"b{1}\"]\n",
    "    cache[f\"Z{1}\"] = self.softmax(cache[f\"A{1}\"])\n",
    "    return cache\n",
    "\n",
    "  def loss(self, prediction, labels):\n",
    "    \"\"\"\n",
    "      prediction: np.array\n",
    "        Probabilités prédites pour chaque classe pour les entrées. Peut contenir plusieurs exemples (un batch) !\n",
    "      labels: np.array\n",
    "        Vraies labels correspondant aux entrées (one-hot encoded). Peut contenir plusieurs exemples (un batch) !\n",
    "\n",
    "      Outputs: Renvoie la perte de l'entropie croisée (moyenne sur le nombre d'entrées).\n",
    "    \"\"\"\n",
    "    prediction[np.where(prediction < self.epsilon)] = self.epsilon\n",
    "    prediction[np.where(prediction > 1 - self.epsilon)] = 1 - self.epsilon\n",
    "    return -np.mean(np.sum(labels * np.log(prediction), axis=1))\n",
    "\n",
    "  def backward(self, cache, labels):\n",
    "    \"\"\"\n",
    "      cache: np.array\n",
    "        Résultats de la passe backward. Cela peut être pour plusieurs exemples (un batch).\n",
    "      labels: np.array\n",
    "        Vraies labels correspondant aux entrées dans le cache. Peut contenir plusieurs exemples (un batch) !\n",
    "\n",
    "      Outputs: Implémente le backward pass, retourne les grads comme décrit ci-dessous.\n",
    "    \"\"\"\n",
    "    output = cache[f\"Z{1}\"]\n",
    "    grads = {}\n",
    "    grads[f\"dA{1}\"] = output - labels\n",
    "    grads[f\"dW{1}\"] = np.dot(cache[f\"Z{0}\"].T, grads[f\"dA{1}\"]) / labels.shape[0]\n",
    "    grads[f\"db{1}\"] = grads[f\"dA{1}\"].mean(axis=0, keepdims=True)\n",
    "    return grads\n",
    "\n",
    "  def update(self, grads):\n",
    "    \"\"\"\n",
    "      grads: np.dictionary\n",
    "        Gradients obtenus à partir de la passe backward.\n",
    "\n",
    "      Results: Met à jour les poids et les biais du réseau.\n",
    "    \"\"\"\n",
    "    self.weights[f\"W{1}\"] -= self.lr * grads[f\"dW{1}\"]\n",
    "    self.weights[f\"b{1}\"] -= self.lr * grads[f\"db{1}\"]\n",
    "\n",
    "  def accuracy_score(self, y_pred, y_true):\n",
    "    \"\"\"\n",
    "      y_pred: np.array\n",
    "        Prédictions du réseau. Peut contenir plusieurs exemples (un batch) !\n",
    "      y_true: np.array\n",
    "        Vraies labels correspondant aux entrées dans y_pred. Peut contenir plusieurs exemples (un batch) !\n",
    "\n",
    "      Outputs: Renvoie le score d'accuracy.\n",
    "    \"\"\"\n",
    "    return np.mean(np.argmax(y_pred, axis=1) == np.argmax(y_true, axis=1))"
   ]
  },
  {
   "cell_type": "code",
   "execution_count": 98,
   "id": "011c6a76",
   "metadata": {},
   "outputs": [],
   "source": [
    "def train_loop(epoch, model, train_x, train_y):\n",
    "  \"\"\"\n",
    "    epoch: int\n",
    "      Numéro de l'époque d'apprentissage actuelle (à partir de 0).\n",
    "    model: ResNet18\n",
    "      Le modèle à entraîner, qui est une instance de la classe ResNet18.\n",
    "    train_loader: DataLoader\n",
    "      Training dataloader.\n",
    "    criterion: Module\n",
    "      Un objet Module qui évalue la perte de l'entropie croisée.\n",
    "    optimizer: Optimizer\n",
    "      Un objet Optimizer pour l'optimiseur Adam.\n",
    "\n",
    "    Outputs: Retourne la moyenne de train_acc et train_loss pour l'époque actuelle.\n",
    "  \"\"\"\n",
    "  train_acc = 0.\n",
    "  train_loss = 0.\n",
    "  for i, X in enumerate(train_x):\n",
    "    X = np.array([X])\n",
    "    cache = model.forward(X)\n",
    "    loss = model.loss(cache[f\"Z{1}\"], train_y[i])\n",
    "    grads = model.backward(cache, train_y[i])\n",
    "    model.update(grads)\n",
    "    train_acc += np.argmax(cache[f\"Z{1}\"]) == np.argmax(train_y[i])\n",
    "    train_loss += loss\n",
    "  train_acc, train_loss = train_acc / len(train_x), train_loss / len(train_x)\n",
    "  return train_acc, train_loss\n",
    "\n",
    "\n",
    "def valid_loop(epoch, model, valid_x, valid_y):\n",
    "  \"\"\"\n",
    "    epoch: int\n",
    "      Numéro de l'époque d'apprentissage actuelle (à partir de 0).\n",
    "    model: ResNet18\n",
    "      Le modèle à entraîner, qui est une instance de la classe ResNet18.\n",
    "    valid_loader: DataLoader\n",
    "      Validation dataloader.\n",
    "    criterion: Module\n",
    "      Un objet Module qui évalue la perte de l'entropie croisée.\n",
    "\n",
    "    Outputs: Retourne la moyenne de valid_acc et valid_loss pour l'époque actuelle.\n",
    "  \"\"\"\n",
    "  valid_acc = 0.\n",
    "  valid_loss = 0.\n",
    "  for i, X in enumerate(valid_x):\n",
    "    X = np.array([X])\n",
    "    cache = model.forward(X)\n",
    "    loss = model.loss(cache[f\"Z{1}\"], valid_y[i])\n",
    "    valid_acc += np.argmax(cache[f\"Z{1}\"]) == np.argmax(valid_y[i])\n",
    "    valid_loss += loss\n",
    "  valid_acc, valid_loss = valid_acc / len(valid_x), valid_loss / len(valid_x)\n",
    "  return valid_acc, valid_loss"
   ]
  },
  {
   "cell_type": "code",
   "execution_count": 101,
   "id": "ce8bc82d",
   "metadata": {},
   "outputs": [
    {
     "name": "stderr",
     "output_type": "stream",
     "text": [
      "Epoch: 99, Valid Loss: 2.5503549482495003, Valid Accuracy: 0.1995  : 100%|██████████| 100/100 [30:10<00:00, 18.11s/it] \n"
     ]
    }
   ],
   "source": [
    "train_accs, train_losses, val_accs, val_losses = [], [], [], []\n",
    "n_epochs = 100\n",
    "\n",
    "model = NN()\n",
    "model.initialize_weights()\n",
    "\n",
    "pbar = tqdm(range(n_epochs), desc = \"Processing first epoch  \")\n",
    "\n",
    "for epoch in pbar:\n",
    "    # Training\n",
    "    train_acc, train_loss = train_loop(epoch, model, train_x, train_y)\n",
    "    pbar.set_description(f\"Epoch: {epoch}, Train Loss: {train_loss}, Train Accuracy: {train_acc}  \")\n",
    "    train_accs.append(train_acc)\n",
    "    train_losses.append(train_loss)\n",
    "\n",
    "    # Validation\n",
    "    val_acc, val_loss = valid_loop(epoch, model, val_x, val_y)\n",
    "    pbar.set_description(f\"Epoch: {epoch}, Valid Loss: {val_loss}, Valid Accuracy: {val_acc}  \")\n",
    "    val_accs.append(val_acc)\n",
    "    val_losses.append(val_loss)"
   ]
  },
  {
   "cell_type": "code",
   "execution_count": 102,
   "id": "08f3adf5",
   "metadata": {},
   "outputs": [
    {
     "data": {
      "image/png": "[encoded data removed]",
      "text/plain": [
       "<Figure size 432x288 with 1 Axes>"
      ]
     },
     "metadata": {
      "needs_background": "light"
     },
     "output_type": "display_data"
    },
    {
     "data": {
      "image/png": "[encoded data removed]",
      "text/plain": [
       "<Figure size 432x288 with 1 Axes>"
      ]
     },
     "metadata": {
      "needs_background": "light"
     },
     "output_type": "display_data"
    }
   ],
   "source": [
    "plt.plot(train_accs)\n",
    "plt.plot(val_accs)\n",
    "plt.xlabel(\"epochs\")\n",
    "plt.ylabel('accuracy')\n",
    "plt.legend([\"train-accs\", \"val-accs\"])\n",
    "plt.title(\"Evolution de l'accuracy\")\n",
    "plt.show()\n",
    "\n",
    "plt.plot(train_losses)\n",
    "plt.plot(val_losses)\n",
    "plt.xlabel(\"epochs\")\n",
    "plt.ylabel('loss')\n",
    "plt.legend([\"train-loss\", \"val-loss\"])\n",
    "plt.title(\"Evolution de la loss\")\n",
    "plt.show()"
   ]
  },
  {
   "cell_type": "code",
   "execution_count": 103,
   "id": "763d49c4",
   "metadata": {},
   "outputs": [],
   "source": [
    "def predict(model, x):\n",
    "    \"\"\"\n",
    "        model: NN\n",
    "        Instance de la classe NN.\n",
    "        x: np.array\n",
    "        Données d'entrée.\n",
    "    \n",
    "        Results: Renvoie les labels prédits par le modèle.\n",
    "    \"\"\"\n",
    "    return np.argmax(model.forward(x)[f\"Z{1}\"], axis=1)"
   ]
  },
  {
   "cell_type": "code",
   "execution_count": 104,
   "id": "e3f598b6",
   "metadata": {},
   "outputs": [],
   "source": [
    "preds = predict(model, test_x)"
   ]
  },
  {
   "cell_type": "code",
   "execution_count": 105,
   "id": "2ebcf1eb",
   "metadata": {},
   "outputs": [
    {
     "name": "stdout",
     "output_type": "stream",
     "text": [
      "[7 7 8 ... 9 5 6] (10000,)\n"
     ]
    }
   ],
   "source": [
    "print(preds, preds.shape)"
   ]
  },
  {
   "cell_type": "code",
   "execution_count": 106,
   "id": "c50da564",
   "metadata": {},
   "outputs": [
    {
     "name": "stdout",
     "output_type": "stream",
     "text": [
      "      Index  Class\n",
      "0         0      7\n",
      "1         1      7\n",
      "2         2      8\n",
      "3         3      7\n",
      "4         4      3\n",
      "...     ...    ...\n",
      "9995   9995      8\n",
      "9996   9996     12\n",
      "9997   9997      9\n",
      "9998   9998      5\n",
      "9999   9999      6\n",
      "\n",
      "[10000 rows x 2 columns]\n"
     ]
    }
   ],
   "source": [
    "# creating a list of index names\n",
    "index_values = [i for i in range(0, 10000)]\n",
    "# creating a list of column names\n",
    "column_values = ['Index', 'Class']\n",
    "  \n",
    "# creating the dataframe\n",
    "df = pd.DataFrame(columns = column_values, index = index_values)\n",
    "df['Class']= preds\n",
    "df['Index']= index_values\n",
    "print(df)"
   ]
  },
  {
   "cell_type": "code",
   "execution_count": 107,
   "id": "ffb3f2b4",
   "metadata": {},
   "outputs": [],
   "source": [
    "df.to_csv('./submission.csv', index=False)"
   ]
  }
 ],
 "metadata": {
  "kernelspec": {
   "display_name": "Python 3.8.8 ('base')",
   "language": "python",
   "name": "python3"
  },
  "language_info": {
   "codemirror_mode": {
    "name": "ipython",
    "version": 3
   },
   "file_extension": ".py",
   "mimetype": "text/x-python",
   "name": "python",
   "nbconvert_exporter": "python",
   "pygments_lexer": "ipython3",
   "version": "3.8.8"
  },
  "vscode": {
   "interpreter": {
    "hash": "40d3a090f54c6569ab1632332b64b2c03c39dcf918b08424e98f38b5ae0af88f"
   }
  }
 },
 "nbformat": 4,
 "nbformat_minor": 5
}
