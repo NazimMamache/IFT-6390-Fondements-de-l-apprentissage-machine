{
 "cells": [
  {
   "cell_type": "markdown",
   "metadata": {},
   "source": [
    "# Implémentation d'un modèle séquentiel Keras "
   ]
  },
  {
   "cell_type": "code",
   "execution_count": 1,
   "metadata": {},
   "outputs": [],
   "source": [
    "import numpy as np\n",
    "import pandas as pd\n",
    "import matplotlib.pyplot as plt\n",
    "from tqdm.autonotebook import tqdm\n",
    "import random\n",
    "data_load = False\n",
    "from keras.models import Sequential\n",
    "from keras.layers import Dense\n",
    "import tensorflow as tf"
   ]
  },
  {
   "cell_type": "markdown",
   "metadata": {},
   "source": [
    "## Load data"
   ]
  },
  {
   "cell_type": "code",
   "execution_count": 2,
   "metadata": {},
   "outputs": [
    {
     "data": {
      "image/png": "[encoded data removed]",
      "text/plain": [
       "<Figure size 432x288 with 1 Axes>"
      ]
     },
     "metadata": {
      "needs_background": "light"
     },
     "output_type": "display_data"
    }
   ],
   "source": [
    "if not data_load :\n",
    "    train_x = pd.read_csv('./classification-of-mnist-digits/train.csv')\n",
    "    train_y = pd.read_csv('./classification-of-mnist-digits/train_result.csv')\n",
    "    test_x = pd.read_csv('./classification-of-mnist-digits/test.csv')\n",
    "    data_load = True\n",
    "for i in train_x.index:\n",
    "    data = train_x.loc[i].values[:-1].reshape(28,56)\n",
    "    plt.title(f'Label is {train_y.loc[i].values[1]}')\n",
    "    plt.imshow(data)\n",
    "    plt.show()\n",
    "    break"
   ]
  },
  {
   "cell_type": "code",
   "execution_count": 3,
   "metadata": {},
   "outputs": [],
   "source": [
    "train_x = train_x.iloc[: , :-1].to_numpy()\n",
    "test_x = test_x.iloc[: , :-1].to_numpy()\n",
    "train_y = np.squeeze(train_y.iloc[:,1:].to_numpy())"
   ]
  },
  {
   "cell_type": "markdown",
   "metadata": {},
   "source": [
    "## Construction du modèle"
   ]
  },
  {
   "cell_type": "code",
   "execution_count": 13,
   "metadata": {},
   "outputs": [
    {
     "name": "stdout",
     "output_type": "stream",
     "text": [
      "Model: \"sequential_3\"\n",
      "_________________________________________________________________\n",
      " Layer (type)                Output Shape              Param #   \n",
      "=================================================================\n",
      " dense_15 (Dense)            (None, 32)                50208     \n",
      "                                                                 \n",
      " dense_16 (Dense)            (None, 64)                2112      \n",
      "                                                                 \n",
      " dense_17 (Dense)            (None, 128)               8320      \n",
      "                                                                 \n",
      " dense_18 (Dense)            (None, 256)               33024     \n",
      "                                                                 \n",
      " dense_19 (Dense)            (None, 19)                4883      \n",
      "                                                                 \n",
      "=================================================================\n",
      "Total params: 98,547\n",
      "Trainable params: 98,547\n",
      "Non-trainable params: 0\n",
      "_________________________________________________________________\n"
     ]
    }
   ],
   "source": [
    "model = Sequential()\n",
    "model.add(Dense(32, input_dim = 1568, activation= 'relu'))\n",
    "model.add(Dense(64, activation = 'relu'))\n",
    "model.add(Dense(128, activation = 'relu'))\n",
    "model.add(Dense(256, activation = 'relu'))\n",
    "model.add(Dense(19, activation = 'softmax'))\n",
    "model.summary()"
   ]
  },
  {
   "cell_type": "markdown",
   "metadata": {},
   "source": [
    "## Entraînement du modèle"
   ]
  },
  {
   "cell_type": "code",
   "execution_count": 14,
   "metadata": {},
   "outputs": [
    {
     "name": "stdout",
     "output_type": "stream",
     "text": [
      "Epoch 1/25\n",
      "1250/1250 [==============================] - 7s 5ms/step - loss: 2.2925 - accuracy: 0.1944 - val_loss: 2.1257 - val_accuracy: 0.2354\n",
      "Epoch 2/25\n",
      "1250/1250 [==============================] - 4s 3ms/step - loss: 2.0796 - accuracy: 0.2584 - val_loss: 2.0119 - val_accuracy: 0.2783\n",
      "Epoch 3/25\n",
      "1250/1250 [==============================] - 4s 3ms/step - loss: 2.0046 - accuracy: 0.2917 - val_loss: 1.9835 - val_accuracy: 0.3041\n",
      "Epoch 4/25\n",
      "1250/1250 [==============================] - 4s 3ms/step - loss: 1.9715 - accuracy: 0.3102 - val_loss: 1.9785 - val_accuracy: 0.3037\n",
      "Epoch 5/25\n",
      "1250/1250 [==============================] - 4s 3ms/step - loss: 1.9483 - accuracy: 0.3147 - val_loss: 2.0101 - val_accuracy: 0.3188\n",
      "Epoch 6/25\n",
      "1250/1250 [==============================] - 4s 3ms/step - loss: 1.9310 - accuracy: 0.3226 - val_loss: 1.9378 - val_accuracy: 0.3318\n",
      "Epoch 7/25\n",
      "1250/1250 [==============================] - 4s 3ms/step - loss: 1.9229 - accuracy: 0.3264 - val_loss: 1.9439 - val_accuracy: 0.3366\n",
      "Epoch 8/25\n",
      "1250/1250 [==============================] - 4s 3ms/step - loss: 1.9000 - accuracy: 0.3381 - val_loss: 2.0029 - val_accuracy: 0.3171\n",
      "Epoch 9/25\n",
      "1250/1250 [==============================] - 4s 3ms/step - loss: 1.9082 - accuracy: 0.3351 - val_loss: 1.9232 - val_accuracy: 0.3341\n",
      "Epoch 10/25\n",
      "1250/1250 [==============================] - 4s 3ms/step - loss: 1.8982 - accuracy: 0.3421 - val_loss: 1.9323 - val_accuracy: 0.3358\n",
      "Epoch 11/25\n",
      "1250/1250 [==============================] - 4s 3ms/step - loss: 1.8907 - accuracy: 0.3424 - val_loss: 1.9233 - val_accuracy: 0.3403\n",
      "Epoch 12/25\n",
      "1250/1250 [==============================] - 4s 3ms/step - loss: 1.8857 - accuracy: 0.3447 - val_loss: 1.8679 - val_accuracy: 0.3623\n",
      "Epoch 13/25\n",
      "1250/1250 [==============================] - 4s 3ms/step - loss: 1.8788 - accuracy: 0.3510 - val_loss: 1.9297 - val_accuracy: 0.3519\n",
      "Epoch 14/25\n",
      "1250/1250 [==============================] - 4s 3ms/step - loss: 1.8717 - accuracy: 0.3529 - val_loss: 1.9441 - val_accuracy: 0.3370\n",
      "Epoch 15/25\n",
      "1250/1250 [==============================] - 4s 3ms/step - loss: 1.8563 - accuracy: 0.3592 - val_loss: 1.8890 - val_accuracy: 0.3461\n",
      "Epoch 16/25\n",
      "1250/1250 [==============================] - 4s 3ms/step - loss: 1.8589 - accuracy: 0.3594 - val_loss: 1.8782 - val_accuracy: 0.3453\n",
      "Epoch 17/25\n",
      "1250/1250 [==============================] - 4s 3ms/step - loss: 1.8533 - accuracy: 0.3620 - val_loss: 1.9526 - val_accuracy: 0.3325\n",
      "Epoch 18/25\n",
      "1250/1250 [==============================] - 4s 3ms/step - loss: 1.8524 - accuracy: 0.3608 - val_loss: 1.9521 - val_accuracy: 0.3282\n",
      "Epoch 19/25\n",
      "1250/1250 [==============================] - 4s 3ms/step - loss: 1.8670 - accuracy: 0.3519 - val_loss: 1.8545 - val_accuracy: 0.3672\n",
      "Epoch 20/25\n",
      "1250/1250 [==============================] - 4s 3ms/step - loss: 1.8279 - accuracy: 0.3680 - val_loss: 1.8297 - val_accuracy: 0.3741\n",
      "Epoch 21/25\n",
      "1250/1250 [==============================] - 4s 3ms/step - loss: 1.8308 - accuracy: 0.3672 - val_loss: 1.8568 - val_accuracy: 0.3669\n",
      "Epoch 22/25\n",
      "1250/1250 [==============================] - 6s 5ms/step - loss: 1.8417 - accuracy: 0.3594 - val_loss: 1.8921 - val_accuracy: 0.3378\n",
      "Epoch 23/25\n",
      "1250/1250 [==============================] - 7s 6ms/step - loss: 1.8483 - accuracy: 0.3611 - val_loss: 1.8927 - val_accuracy: 0.3613\n",
      "Epoch 24/25\n",
      "1250/1250 [==============================] - 10s 8ms/step - loss: 1.8497 - accuracy: 0.3602 - val_loss: 1.8742 - val_accuracy: 0.3500\n",
      "Epoch 25/25\n",
      "1250/1250 [==============================] - 6s 5ms/step - loss: 1.8361 - accuracy: 0.3632 - val_loss: 1.9084 - val_accuracy: 0.3513\n"
     ]
    }
   ],
   "source": [
    "model.compile(loss = 'sparse_categorical_crossentropy', optimizer = tf.keras.optimizers.Adam(learning_rate=1e-2), metrics = ['accuracy'])\n",
    "history = model.fit(train_x, train_y, epochs = 25, batch_size = 32, validation_split=0.2)"
   ]
  },
  {
   "cell_type": "markdown",
   "metadata": {},
   "source": [
    "## Courbes évolution de la loss et de l'accuracy"
   ]
  },
  {
   "cell_type": "code",
   "execution_count": 17,
   "metadata": {},
   "outputs": [
    {
     "data": {
      "image/png": "[encoded data removed]",
      "text/plain": [
       "<Figure size 432x288 with 1 Axes>"
      ]
     },
     "metadata": {
      "needs_background": "light"
     },
     "output_type": "display_data"
    }
   ],
   "source": [
    "plt.plot(history.history['accuracy'])\n",
    "plt.plot(history.history['val_accuracy'])\n",
    "plt.title('model accuracy')\n",
    "plt.ylabel('accuracy')\n",
    "plt.xlabel('epoch')\n",
    "plt.legend(['train', 'val'], loc='upper left')\n",
    "plt.ylim([0, 1])\n",
    "plt.show()"
   ]
  },
  {
   "cell_type": "code",
   "execution_count": 18,
   "metadata": {},
   "outputs": [
    {
     "data": {
      "image/png": "[encoded data removed]",
      "text/plain": [
       "<Figure size 432x288 with 1 Axes>"
      ]
     },
     "metadata": {
      "needs_background": "light"
     },
     "output_type": "display_data"
    }
   ],
   "source": [
    "plt.plot(history.history['loss'])\n",
    "plt.plot(history.history['val_loss'])\n",
    "plt.title('model loss')\n",
    "plt.ylabel('loss')\n",
    "plt.xlabel('epoch')\n",
    "plt.legend(['train', 'val'], loc='upper left')\n",
    "plt.show()"
   ]
  },
  {
   "cell_type": "markdown",
   "metadata": {},
   "source": [
    "## Prédiction obtenue pour le jeu de test"
   ]
  },
  {
   "cell_type": "code",
   "execution_count": null,
   "metadata": {},
   "outputs": [
    {
     "name": "stdout",
     "output_type": "stream",
     "text": [
      "313/313 [==============================] - 1s 2ms/step\n",
      "[11  7 10 ... 10  4  6]\n"
     ]
    }
   ],
   "source": [
    "pred = model.predict(test_x)\n",
    "pred = np.argmax(pred, axis = 1)\n",
    "print(pred)"
   ]
  },
  {
   "cell_type": "markdown",
   "metadata": {},
   "source": [
    "## Chargement des résultats dans un csv conforme"
   ]
  },
  {
   "cell_type": "code",
   "execution_count": null,
   "metadata": {},
   "outputs": [
    {
     "name": "stdout",
     "output_type": "stream",
     "text": [
      "      Index  Class\n",
      "0         0     11\n",
      "1         1      7\n",
      "2         2     10\n",
      "3         3      7\n",
      "4         4      5\n",
      "...     ...    ...\n",
      "9995   9995      7\n",
      "9996   9996     12\n",
      "9997   9997     10\n",
      "9998   9998      4\n",
      "9999   9999      6\n",
      "\n",
      "[10000 rows x 2 columns]\n"
     ]
    }
   ],
   "source": [
    "# creating a list of index names\n",
    "index_values = [i for i in range(0, 10000)]\n",
    "# creating a list of column names\n",
    "column_values = ['Index', 'Class']\n",
    "  \n",
    "# creating the dataframe\n",
    "df = pd.DataFrame(columns = column_values, index = index_values)\n",
    "df['Class']= pred\n",
    "df['Index']= index_values\n",
    "print(df)\n",
    "df.to_csv('./submission_Keras_batch1.csv', index=False)"
   ]
  }
 ],
 "metadata": {
  "kernelspec": {
   "display_name": "Python 3.8.8 ('base')",
   "language": "python",
   "name": "python3"
  },
  "language_info": {
   "codemirror_mode": {
    "name": "ipython",
    "version": 3
   },
   "file_extension": ".py",
   "mimetype": "text/x-python",
   "name": "python",
   "nbconvert_exporter": "python",
   "pygments_lexer": "ipython3",
   "version": "3.8.8"
  },
  "orig_nbformat": 4,
  "vscode": {
   "interpreter": {
    "hash": "40d3a090f54c6569ab1632332b64b2c03c39dcf918b08424e98f38b5ae0af88f"
   }
  }
 },
 "nbformat": 4,
 "nbformat_minor": 2
}
